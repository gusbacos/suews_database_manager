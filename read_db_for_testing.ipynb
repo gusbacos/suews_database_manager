{
 "cells": [
  {
   "cell_type": "code",
   "execution_count": 1,
   "metadata": {},
   "outputs": [],
   "source": [
    "import pandas as pd"
   ]
  },
  {
   "cell_type": "code",
   "execution_count": 2,
   "metadata": {},
   "outputs": [],
   "source": [
    "def read_DB(db_path):\n",
    "    '''\n",
    "    function for reading database and parse it to dictionary of dataframes\n",
    "    descOrigin is used for indexing and presenting the database entries in a understandable way for the user\n",
    "    '''\n",
    "\n",
    "    db_sh = pd.ExcelFile(db_path)\n",
    "    sheets = db_sh.sheet_names\n",
    "    db = pd.read_excel(db_path, sheet_name= sheets, index_col= 0)\n",
    "    # add \n",
    "    for col in sheets:\n",
    "        # Fill empty cells with NaN\n",
    "        db[col] = db[col].fillna(db[col])\n",
    "        if col == 'Types':\n",
    "            db[col]['descOrigin'] = db[col]['Type'].astype(str) + ', ' + db[col]['Origin'].astype(str)\n",
    "        elif col == 'References': \n",
    "            db[col]['authorYear'] = db[col]['Author'].astype(str) + ', ' + db[col]['Year'].astype(str)\n",
    "        elif col == 'Country':\n",
    "            db[col]['descOrigin'] = db[col]['Country'].astype(str) + ', ' + db[col]['City'].astype(str)  \n",
    "        elif col == 'Region':\n",
    "            pass\n",
    "        elif col == 'Spartacus Material':\n",
    "            db[col]['descOrigin'] = db[col]['Description'].astype(str) + '; ' + db[col]['Color'].astype(str) + '; ' + db[col]['Origin'].astype(str)    \n",
    "        # Calculate U-values for roof and wall new columns u_value_wall and u_value_roof\n",
    "        elif col == 'Spartacus Surface':\n",
    "            db[col]['descOrigin'] = db[col]['Description'].astype(str) + ', ' + db[col]['Origin'].astype(str)\n",
    "            for row in db['Spartacus Surface'].iterrows():\n",
    "                id = row[0]\n",
    "                SS_surf_sel = db['Spartacus Surface'].loc[id]\n",
    "                if SS_surf_sel['Surface'] == 'Buildings':\n",
    "                    resistance_bulk_w = 0\n",
    "                    resistance_bulk_r = 0\n",
    "\n",
    "                    for i in range(1,4):\n",
    "                        surf_w = SS_surf_sel['w'+str(i)+'Material'].item()\n",
    "                        thickness_w = SS_surf_sel['w'+str(i)+'Thickness'].item()\n",
    "                        \n",
    "                        surf_r = SS_surf_sel['r'+str(i)+'Material'].item()\n",
    "                        thickness_r = SS_surf_sel['r'+str(i)+'Thickness'].item()\n",
    "\n",
    "                        try:\n",
    "                            Tc_w = db['Spartacus Material'].loc[surf_w, 'Thermal Conductivity']\n",
    "                            resistance_w = thickness_w / Tc_w\n",
    "                            resistance_bulk_w = resistance_bulk_w + resistance_w\n",
    "                        except:\n",
    "                            pass\n",
    "\n",
    "                        try:\n",
    "                            Tc_r = db['Spartacus Material'].loc[surf_r, 'Thermal Conductivity']\n",
    "                            resistance_r = thickness_r / Tc_r\n",
    "                            resistance_bulk_r = resistance_bulk_r + resistance_r\n",
    "\n",
    "                        except:\n",
    "                            print(id, i)\n",
    "                    \n",
    "                    u_value_w = 1/ resistance_bulk_w\n",
    "                    u_value_r = 1/ resistance_bulk_r\n",
    "\n",
    "                    \n",
    "                    db['Spartacus Surface'].loc[id,'u_value_wall'] = u_value_w\n",
    "                    db['Spartacus Surface'].loc[id,'u_value_roof'] = u_value_r\n",
    "\n",
    "                    db['Spartacus Surface'].loc[id,'albedo_roof'] = db['Spartacus Material'].loc[SS_surf_sel['r1Material'], 'Albedo']\n",
    "                    db['Spartacus Surface'].loc[id,'albedo_wall'] = db['Spartacus Material'].loc[SS_surf_sel['w1Material'], 'Albedo']\n",
    "\n",
    "        else:\n",
    "            db[col]['descOrigin'] = db[col]['Description'].astype(str) + ', ' + db[col]['Origin'].astype(str)\n",
    "\n",
    "    db_sh.close() # trying this to close excelfile\n",
    "    \n",
    "    return db"
   ]
  },
  {
   "cell_type": "code",
   "execution_count": 3,
   "metadata": {},
   "outputs": [],
   "source": [
    "db_path = r'C:\\GitHub\\suews_database_manager\\data\\database.xlsx'"
   ]
  },
  {
   "cell_type": "code",
   "execution_count": 4,
   "metadata": {},
   "outputs": [],
   "source": [
    "db = read_DB(db_path)"
   ]
  },
  {
   "cell_type": "code",
   "execution_count": 11,
   "metadata": {},
   "outputs": [
    {
     "data": {
      "text/html": [
       "<div>\n",
       "<style scoped>\n",
       "    .dataframe tbody tr th:only-of-type {\n",
       "        vertical-align: middle;\n",
       "    }\n",
       "\n",
       "    .dataframe tbody tr th {\n",
       "        vertical-align: top;\n",
       "    }\n",
       "\n",
       "    .dataframe thead th {\n",
       "        text-align: right;\n",
       "    }\n",
       "</style>\n",
       "<table border=\"1\" class=\"dataframe\">\n",
       "  <thead>\n",
       "    <tr style=\"text-align: right;\">\n",
       "      <th></th>\n",
       "      <th>General Type</th>\n",
       "      <th>Surface</th>\n",
       "      <th>Description</th>\n",
       "      <th>Origin</th>\n",
       "      <th>LeafGrowthPower1</th>\n",
       "      <th>LeafGrowthPower2</th>\n",
       "      <th>LeafOffPower1</th>\n",
       "      <th>LeafOffPower2</th>\n",
       "      <th>Ref</th>\n",
       "      <th>descOrigin</th>\n",
       "    </tr>\n",
       "    <tr>\n",
       "      <th>ID</th>\n",
       "      <th></th>\n",
       "      <th></th>\n",
       "      <th></th>\n",
       "      <th></th>\n",
       "      <th></th>\n",
       "      <th></th>\n",
       "      <th></th>\n",
       "      <th></th>\n",
       "      <th></th>\n",
       "      <th></th>\n",
       "    </tr>\n",
       "  </thead>\n",
       "  <tbody>\n",
       "    <tr>\n",
       "      <th>321</th>\n",
       "      <td>24</td>\n",
       "      <td>Evergreen Tree</td>\n",
       "      <td>Evergreen Tree, LaiEq = 1</td>\n",
       "      <td>Helsinki</td>\n",
       "      <td>0.04</td>\n",
       "      <td>0.0010</td>\n",
       "      <td>-1.50</td>\n",
       "      <td>0.0015</td>\n",
       "      <td>9015</td>\n",
       "      <td>Evergreen Tree, LaiEq = 1, Helsinki</td>\n",
       "    </tr>\n",
       "    <tr>\n",
       "      <th>322</th>\n",
       "      <td>24</td>\n",
       "      <td>Deciduous Tree</td>\n",
       "      <td>Deciduous Tree, LaiEq = 1</td>\n",
       "      <td>Helsinki</td>\n",
       "      <td>0.04</td>\n",
       "      <td>0.0010</td>\n",
       "      <td>-1.50</td>\n",
       "      <td>0.0015</td>\n",
       "      <td>9015</td>\n",
       "      <td>Deciduous Tree, LaiEq = 1, Helsinki</td>\n",
       "    </tr>\n",
       "    <tr>\n",
       "      <th>323</th>\n",
       "      <td>24</td>\n",
       "      <td>Grass</td>\n",
       "      <td>Grass, LaiEq = 1</td>\n",
       "      <td>Helsinki</td>\n",
       "      <td>0.04</td>\n",
       "      <td>0.0010</td>\n",
       "      <td>-1.50</td>\n",
       "      <td>0.0015</td>\n",
       "      <td>9015</td>\n",
       "      <td>Grass, LaiEq = 1, Helsinki</td>\n",
       "    </tr>\n",
       "    <tr>\n",
       "      <th>324</th>\n",
       "      <td>24</td>\n",
       "      <td>Evergreen Tree</td>\n",
       "      <td>Evergreen Tree, LaiEq = 0</td>\n",
       "      <td>Vancouver</td>\n",
       "      <td>0.03</td>\n",
       "      <td>0.0005</td>\n",
       "      <td>0.03</td>\n",
       "      <td>0.0005</td>\n",
       "      <td>9054</td>\n",
       "      <td>Evergreen Tree, LaiEq = 0, Vancouver</td>\n",
       "    </tr>\n",
       "    <tr>\n",
       "      <th>325</th>\n",
       "      <td>24</td>\n",
       "      <td>Deciduous Tree</td>\n",
       "      <td>Deciduous Tree, LaiEq = 0</td>\n",
       "      <td>Vancouver</td>\n",
       "      <td>0.03</td>\n",
       "      <td>0.0005</td>\n",
       "      <td>0.03</td>\n",
       "      <td>0.0005</td>\n",
       "      <td>9054</td>\n",
       "      <td>Deciduous Tree, LaiEq = 0, Vancouver</td>\n",
       "    </tr>\n",
       "    <tr>\n",
       "      <th>326</th>\n",
       "      <td>24</td>\n",
       "      <td>Grass</td>\n",
       "      <td>Grass, LaiEq = 0</td>\n",
       "      <td>Vancouver</td>\n",
       "      <td>0.03</td>\n",
       "      <td>0.0005</td>\n",
       "      <td>0.03</td>\n",
       "      <td>0.0005</td>\n",
       "      <td>9054</td>\n",
       "      <td>Grass, LaiEq = 0, Vancouver</td>\n",
       "    </tr>\n",
       "  </tbody>\n",
       "</table>\n",
       "</div>"
      ],
      "text/plain": [
       "     General Type         Surface                Description     Origin  \\\n",
       "ID                                                                        \n",
       "321            24  Evergreen Tree  Evergreen Tree, LaiEq = 1   Helsinki   \n",
       "322            24  Deciduous Tree  Deciduous Tree, LaiEq = 1   Helsinki   \n",
       "323            24           Grass           Grass, LaiEq = 1   Helsinki   \n",
       "324            24  Evergreen Tree  Evergreen Tree, LaiEq = 0  Vancouver   \n",
       "325            24  Deciduous Tree  Deciduous Tree, LaiEq = 0  Vancouver   \n",
       "326            24           Grass           Grass, LaiEq = 0  Vancouver   \n",
       "\n",
       "     LeafGrowthPower1  LeafGrowthPower2  LeafOffPower1  LeafOffPower2   Ref  \\\n",
       "ID                                                                            \n",
       "321              0.04            0.0010          -1.50         0.0015  9015   \n",
       "322              0.04            0.0010          -1.50         0.0015  9015   \n",
       "323              0.04            0.0010          -1.50         0.0015  9015   \n",
       "324              0.03            0.0005           0.03         0.0005  9054   \n",
       "325              0.03            0.0005           0.03         0.0005  9054   \n",
       "326              0.03            0.0005           0.03         0.0005  9054   \n",
       "\n",
       "                               descOrigin  \n",
       "ID                                         \n",
       "321   Evergreen Tree, LaiEq = 1, Helsinki  \n",
       "322   Deciduous Tree, LaiEq = 1, Helsinki  \n",
       "323            Grass, LaiEq = 1, Helsinki  \n",
       "324  Evergreen Tree, LaiEq = 0, Vancouver  \n",
       "325  Deciduous Tree, LaiEq = 0, Vancouver  \n",
       "326           Grass, LaiEq = 0, Vancouver  "
      ]
     },
     "execution_count": 11,
     "metadata": {},
     "output_type": "execute_result"
    }
   ],
   "source": [
    "db['Leaf Growth Power']"
   ]
  },
  {
   "cell_type": "code",
   "execution_count": 35,
   "metadata": {},
   "outputs": [],
   "source": [
    "db_sh = pd.ExcelFile(db_path)\n",
    "sheets = db_sh.sheet_names\n",
    "db = pd.read_excel(db_path, sheet_name= sheets, index_col= 0)"
   ]
  },
  {
   "cell_type": "code",
   "execution_count": 22,
   "metadata": {},
   "outputs": [
    {
     "data": {
      "text/plain": [
       "[0.04,\n",
       " 0.04,\n",
       " 0.04,\n",
       " 0.04,\n",
       " 0.04,\n",
       " 0.04,\n",
       " 0.04,\n",
       " 0.04,\n",
       " 0.04,\n",
       " 0.04,\n",
       " 0.04,\n",
       " 0.04,\n",
       " 0.04,\n",
       " 0.04,\n",
       " 0.04,\n",
       " 0.04,\n",
       " 0.05,\n",
       " 0.05,\n",
       " 0.05,\n",
       " 0.05,\n",
       " 0.04,\n",
       " 0.04,\n",
       " 0.04,\n",
       " 0.04]"
      ]
     },
     "execution_count": 22,
     "metadata": {},
     "output_type": "execute_result"
    }
   ],
   "source": [
    "# for col in sheets:\n",
    "#     db[col] = db[col].fillna\n",
    "\n",
    "a =list(db['Profiles'].iloc[1,5:-2])\n",
    "\n",
    "a\n"
   ]
  },
  {
   "cell_type": "code",
   "execution_count": 25,
   "metadata": {},
   "outputs": [],
   "source": [
    "prof_df = pd.DataFrame(a)\n"
   ]
  },
  {
   "cell_type": "code",
   "execution_count": 24,
   "metadata": {},
   "outputs": [
    {
     "data": {
      "text/plain": [
       "<Axes: >"
      ]
     },
     "execution_count": 24,
     "metadata": {},
     "output_type": "execute_result"
    },
    {
     "data": {
      "image/png": "[encoded data removed]",
      "text/plain": [
       "<Figure size 640x480 with 1 Axes>"
      ]
     },
     "metadata": {},
     "output_type": "display_data"
    }
   ],
   "source": [
    "prof_df.plot()"
   ]
  },
  {
   "cell_type": "code",
   "execution_count": null,
   "metadata": {},
   "outputs": [],
   "source": []
  }
 ],
 "metadata": {
  "kernelspec": {
   "display_name": "Python 3",
   "language": "python",
   "name": "python3"
  },
  "language_info": {
   "codemirror_mode": {
    "name": "ipython",
    "version": 3
   },
   "file_extension": ".py",
   "mimetype": "text/x-python",
   "name": "python",
   "nbconvert_exporter": "python",
   "pygments_lexer": "ipython3",
   "version": "3.12.5"
  }
 },
 "nbformat": 4,
 "nbformat_minor": 2
}
